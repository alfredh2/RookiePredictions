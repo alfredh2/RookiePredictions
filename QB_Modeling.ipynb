{
 "cells": [
  {
   "cell_type": "markdown",
   "id": "63951ed0-506e-4c31-a640-1a271dd7a3d7",
   "metadata": {},
   "source": [
    "# Modeling"
   ]
  },
  {
   "cell_type": "code",
   "execution_count": 1,
   "id": "e88ea352-f7ed-4a60-8910-58ab84e67e07",
   "metadata": {},
   "outputs": [],
   "source": [
    "import numpy as np\n",
    "import pandas as pd\n",
    "import matplotlib.pyplot as plt\n",
    "import seaborn as sns\n",
    "from sklearn.model_selection import train_test_split, GridSearchCV\n",
    "from sklearn.ensemble import RandomForestRegressor\n",
    "from sklearn.metrics import mean_squared_error\n",
    "from sklearn.preprocessing import OneHotEncoder\n",
    "from sklearn.compose import ColumnTransformer\n",
    "from sklearn.pipeline import Pipeline\n",
    "from sklearn.dummy import DummyRegressor\n",
    "import xgboost as xgb\n",
    "import joblib"
   ]
  },
  {
   "cell_type": "markdown",
   "id": "47c5887f-68f9-4a28-bd09-4a0498461fa3",
   "metadata": {},
   "source": [
    "### Feature Selection"
   ]
  },
  {
   "cell_type": "markdown",
   "id": "383a7cec-c79b-496d-bca7-f788107fa237",
   "metadata": {},
   "source": [
    "I will begin selecting predictive features to use in our model based on our EDA and domain knowledge to limit multicollinearity and select good predictors."
   ]
  },
  {
   "cell_type": "code",
   "execution_count": 2,
   "id": "ff11485d-af9c-4bf5-83a3-cec29ae697e5",
   "metadata": {},
   "outputs": [],
   "source": [
    "# Load the data frames\n",
    "df = pd.read_csv('qb.csv')"
   ]
  },
  {
   "cell_type": "code",
   "execution_count": 3,
   "id": "26b33e28-99e4-4560-9b15-adac462696fb",
   "metadata": {},
   "outputs": [
    {
     "data": {
      "text/plain": [
       "0    75\n",
       "1    73\n",
       "2    76\n",
       "3    75\n",
       "4    73\n",
       "Name: Height, dtype: int64"
      ]
     },
     "execution_count": 3,
     "metadata": {},
     "output_type": "execute_result"
    }
   ],
   "source": [
    "# Function to convert height from 'feet-inches' to inches\n",
    "def height_to_inches(height):\n",
    "    feet, inches = height.split('-')\n",
    "    return int(feet) * 12 + int(inches)\n",
    "\n",
    "# Apply the function to the Height column\n",
    "df['Height'] = df['Height'].apply(height_to_inches)\n",
    "df['Height'].head()"
   ]
  },
  {
   "cell_type": "code",
   "execution_count": 4,
   "id": "685b9c52-a190-4c51-9bb7-4e33357762f3",
   "metadata": {},
   "outputs": [
    {
     "data": {
      "text/plain": [
       "Index(['Player', 'Tm', 'Age', 'G_P', 'GS', 'Att_R_P', 'Yds_R_P', 'TD_R_P',\n",
       "       '1D_R', 'Succ%_R', 'Y/A_R_P', 'Y/G_R', 'Fmb', 'Cmp_P', 'Att_P', 'Pct_P',\n",
       "       'Yds_P', 'TD_P', 'TD%', 'Int_P', 'Int%', '1D', 'Succ%', 'Y/A_P',\n",
       "       'AY/A_P', 'Y/C', 'Y/G', 'Rate_P', 'QBR', 'Sk', 'SackYds', 'Sk%', 'NY/A',\n",
       "       'ANY/A', 'G', 'Cmp', 'Att', 'Pct', 'Yds', 'Y/A', 'AY/A', 'TD', 'Int',\n",
       "       'Rate', 'Att_R', 'Yds_R', 'Avg_R', 'TD_R', 'Conf', 'School', 'Height',\n",
       "       'Weight', '40yd', 'Vertical', 'Broad Jump', '3Cone', 'Shuttle',\n",
       "       'Drafted', 'OvrPick'],\n",
       "      dtype='object')"
      ]
     },
     "execution_count": 4,
     "metadata": {},
     "output_type": "execute_result"
    }
   ],
   "source": [
    "df.columns"
   ]
  },
  {
   "cell_type": "code",
   "execution_count": 5,
   "id": "f3410d9b-a247-4bde-81c7-bc34c63839ca",
   "metadata": {},
   "outputs": [
    {
     "data": {
      "text/plain": [
       "Index(['Age', 'G', 'Pct', 'Yds', 'Y/A', 'AY/A', 'TD', 'Int', 'Rate', 'Att_R',\n",
       "       'Yds_R', 'Avg_R', 'TD_R', 'Conf', 'Height', 'Weight', '40yd',\n",
       "       'Vertical', 'Broad Jump', '3Cone', 'Shuttle', 'Drafted', 'OvrPick'],\n",
       "      dtype='object')"
      ]
     },
     "execution_count": 5,
     "metadata": {},
     "output_type": "execute_result"
    }
   ],
   "source": [
    "X = df.drop(columns=['Player', 'Tm', 'G_P', 'GS', 'Att_R_P', 'Yds_R_P', 'TD_R_P',\n",
    "       '1D_R', 'Succ%_R', 'Y/A_R_P', 'Y/G_R', 'Fmb', 'Cmp_P', 'Att_P', 'Pct_P',\n",
    "       'Yds_P', 'TD_P', 'TD%', 'Int_P', 'Int%', '1D', 'Succ%', 'Y/A_P',\n",
    "       'AY/A_P', 'Y/C', 'Y/G', 'Cmp', 'Att', 'Rate_P', 'QBR', 'Sk', 'SackYds', 'Sk%', 'NY/A',\n",
    "       'ANY/A', 'School'])\n",
    "X.columns"
   ]
  },
  {
   "cell_type": "code",
   "execution_count": 6,
   "id": "53f138d9-ff66-4319-83a0-2d696ac99215",
   "metadata": {},
   "outputs": [],
   "source": [
    "models = []"
   ]
  },
  {
   "cell_type": "markdown",
   "id": "6ba09b27-0587-42aa-90c2-1af6bfe10ae5",
   "metadata": {},
   "source": [
    "### Predicting Passing Yards"
   ]
  },
  {
   "cell_type": "code",
   "execution_count": 7,
   "id": "9dd805a5-148e-4a07-847b-f71cf9541bf6",
   "metadata": {},
   "outputs": [],
   "source": [
    "y1 = df['Yds_P']"
   ]
  },
  {
   "cell_type": "code",
   "execution_count": 8,
   "id": "701d1e9d-c17e-4127-ad70-0faa2cc772cf",
   "metadata": {},
   "outputs": [],
   "source": [
    "X['Conf'] = X['Conf'].astype('category')"
   ]
  },
  {
   "cell_type": "code",
   "execution_count": 9,
   "id": "15aa813f-a8b9-4df3-8ebb-3ffce2c07ab7",
   "metadata": {},
   "outputs": [],
   "source": [
    "X_train, X_test, y1_train, y1_test = train_test_split(X, y1, test_size=0.2, random_state=42)"
   ]
  },
  {
   "cell_type": "code",
   "execution_count": 10,
   "id": "92c3edaf-2e5d-4ebe-a429-895417cae6b6",
   "metadata": {},
   "outputs": [
    {
     "name": "stdout",
     "output_type": "stream",
     "text": [
      "<class 'pandas.core.frame.DataFrame'>\n",
      "RangeIndex: 84 entries, 0 to 83\n",
      "Data columns (total 23 columns):\n",
      " #   Column      Non-Null Count  Dtype   \n",
      "---  ------      --------------  -----   \n",
      " 0   Age         84 non-null     int64   \n",
      " 1   G           84 non-null     float64 \n",
      " 2   Pct         84 non-null     float64 \n",
      " 3   Yds         84 non-null     float64 \n",
      " 4   Y/A         84 non-null     float64 \n",
      " 5   AY/A        84 non-null     float64 \n",
      " 6   TD          84 non-null     float64 \n",
      " 7   Int         84 non-null     float64 \n",
      " 8   Rate        84 non-null     float64 \n",
      " 9   Att_R       84 non-null     float64 \n",
      " 10  Yds_R       84 non-null     float64 \n",
      " 11  Avg_R       84 non-null     float64 \n",
      " 12  TD_R        84 non-null     float64 \n",
      " 13  Conf        84 non-null     category\n",
      " 14  Height      84 non-null     int64   \n",
      " 15  Weight      84 non-null     float64 \n",
      " 16  40yd        84 non-null     float64 \n",
      " 17  Vertical    84 non-null     float64 \n",
      " 18  Broad Jump  84 non-null     float64 \n",
      " 19  3Cone       84 non-null     float64 \n",
      " 20  Shuttle     84 non-null     float64 \n",
      " 21  Drafted     84 non-null     bool    \n",
      " 22  OvrPick     84 non-null     float64 \n",
      "dtypes: bool(1), category(1), float64(19), int64(2)\n",
      "memory usage: 14.5 KB\n"
     ]
    }
   ],
   "source": [
    "X.info()"
   ]
  },
  {
   "cell_type": "code",
   "execution_count": 11,
   "id": "478bbac3-aab6-4a0e-acc0-6ee1635b21f2",
   "metadata": {},
   "outputs": [],
   "source": [
    "# Define the column transformer with handle_unknown='ignore'\n",
    "preprocessor = ColumnTransformer(\n",
    "    transformers=[\n",
    "        ('cat', OneHotEncoder(handle_unknown='ignore'), ['Conf'])  # Apply one-hot encoding to the categorical feature\n",
    "    ],\n",
    "    remainder='passthrough'  # Leave other features untouched\n",
    ")\n",
    "\n",
    "# Define the pipeline\n",
    "pipeline = Pipeline(steps=[\n",
    "    ('preprocessor', preprocessor),\n",
    "    ('regressor', RandomForestRegressor())\n",
    "])\n"
   ]
  },
  {
   "cell_type": "code",
   "execution_count": 12,
   "id": "039b5ce1-6a9b-441b-9c1d-21ae1316f2c2",
   "metadata": {},
   "outputs": [
    {
     "name": "stdout",
     "output_type": "stream",
     "text": [
      "Best Parameters: {'regressor__max_depth': 14, 'regressor__n_estimators': 270}\n",
      "Mean Squared Error: 1461711.505708061\n"
     ]
    }
   ],
   "source": [
    "# Define hyperparameters for tuning\n",
    "param_grid = {\n",
    "    'regressor__n_estimators': [245, 250, 255, 265, 270, 275, 280],\n",
    "    'regressor__max_depth': [12, 13, 14, 15, 16]\n",
    "}\n",
    "\n",
    "# Set up GridSearchCV\n",
    "grid_search = GridSearchCV(estimator=pipeline, param_grid=param_grid, cv=5, scoring='neg_mean_squared_error', n_jobs=-1)\n",
    "\n",
    "# Train the model\n",
    "grid_search.fit(X_train, y1_train)\n",
    "\n",
    "# Best parameters and estimator\n",
    "best_params = grid_search.best_params_\n",
    "best_model = grid_search.best_estimator_\n",
    "print(\"Best Parameters:\", best_params)\n",
    "\n",
    "# Make predictions\n",
    "y1_pred = best_model.predict(X_test)\n",
    "\n",
    "# Calculate evaluation metrics\n",
    "mse = mean_squared_error(y1_test, y1_pred)\n",
    "print(\"Mean Squared Error:\", mse)"
   ]
  },
  {
   "cell_type": "markdown",
   "id": "579341f1-74e7-4090-8747-8a7572d50586",
   "metadata": {},
   "source": [
    "To evaluate this error, let's compare against a baseline."
   ]
  },
  {
   "cell_type": "code",
   "execution_count": 13,
   "id": "986c7b07-cfec-452c-bc82-0e119a6a44fe",
   "metadata": {},
   "outputs": [
    {
     "name": "stdout",
     "output_type": "stream",
     "text": [
      "Mean Squared Error: 1461711.505708061\n",
      "Root Mean Squared Error: 1209.0126160251848\n",
      "Baseline Mean Squared Error: 1718306.6424069293\n",
      "Baseline Root Mean Squared Error: 1310.8419593554859\n"
     ]
    }
   ],
   "source": [
    "mse = mean_squared_error(y1_test, y1_pred)\n",
    "rmse = np.sqrt(mse)\n",
    "print(\"Mean Squared Error:\", mse)\n",
    "print(\"Root Mean Squared Error:\", rmse)\n",
    "\n",
    "# Baseline model\n",
    "dummy = DummyRegressor(strategy=\"mean\")\n",
    "dummy.fit(X_train, y1_train)\n",
    "dummy_pred = dummy.predict(X_test)\n",
    "baseline_mse = mean_squared_error(y1_test, dummy_pred)\n",
    "baseline_rmse = np.sqrt(baseline_mse)\n",
    "print(\"Baseline Mean Squared Error:\", baseline_mse)\n",
    "print(\"Baseline Root Mean Squared Error:\", baseline_rmse)"
   ]
  },
  {
   "cell_type": "code",
   "execution_count": 14,
   "id": "8905ab29-7029-4af0-8b64-db63cdb78759",
   "metadata": {},
   "outputs": [],
   "source": [
    "models.append(best_model)"
   ]
  },
  {
   "cell_type": "markdown",
   "id": "35e1790e-c890-4bae-9626-8feb6b981d0b",
   "metadata": {},
   "source": [
    "### Predicting Pass Touchdowns"
   ]
  },
  {
   "cell_type": "code",
   "execution_count": 15,
   "id": "aedd3fd8-9c9c-491f-b226-3aad80ebea84",
   "metadata": {},
   "outputs": [],
   "source": [
    "y2 = df['TD_P']\n",
    "X_train, X_test, y2_train, y2_test = train_test_split(X, y2, test_size=0.2, random_state=42)"
   ]
  },
  {
   "cell_type": "code",
   "execution_count": 16,
   "id": "bcca4fb5-8cc5-4bec-8fcb-68cc828c7cd1",
   "metadata": {},
   "outputs": [
    {
     "name": "stdout",
     "output_type": "stream",
     "text": [
      "Best Parameters: {'regressor__max_depth': 2, 'regressor__n_estimators': 225}\n",
      "Mean Squared Error: 53.77413840383418\n"
     ]
    }
   ],
   "source": [
    "# Define hyperparameters for tuning\n",
    "param_grid = {\n",
    "    'regressor__n_estimators': [100, 150, 175, 200, 225, 250],\n",
    "    'regressor__max_depth': [None, 2, 4, 6, 8, 10]\n",
    "}\n",
    "\n",
    "# Set up GridSearchCV\n",
    "grid_search = GridSearchCV(estimator=pipeline, param_grid=param_grid, cv=5, scoring='neg_mean_squared_error', n_jobs=-1)\n",
    "\n",
    "# Train the model\n",
    "grid_search.fit(X_train, y2_train)\n",
    "\n",
    "# Best parameters and estimator\n",
    "best_params = grid_search.best_params_\n",
    "best_model = grid_search.best_estimator_\n",
    "print(\"Best Parameters:\", best_params)\n",
    "\n",
    "# Make predictions\n",
    "y2_pred = best_model.predict(X_test)\n",
    "\n",
    "# Calculate evaluation metrics\n",
    "mse = mean_squared_error(y2_test, y2_pred)\n",
    "print(\"Mean Squared Error:\", mse)"
   ]
  },
  {
   "cell_type": "code",
   "execution_count": 17,
   "id": "8d02b60c-6699-42c6-aa4a-9f71da049e09",
   "metadata": {},
   "outputs": [
    {
     "name": "stdout",
     "output_type": "stream",
     "text": [
      "Mean Squared Error: 53.77413840383418\n",
      "Root Mean Squared Error: 7.333085190002512\n",
      "Baseline Mean Squared Error: 60.86387640375821\n",
      "Baseline Root Mean Squared Error: 7.801530388568528\n"
     ]
    }
   ],
   "source": [
    "mse = mean_squared_error(y2_test, y2_pred)\n",
    "rmse = np.sqrt(mse)\n",
    "print(\"Mean Squared Error:\", mse)\n",
    "print(\"Root Mean Squared Error:\", rmse)\n",
    "\n",
    "# Baseline model\n",
    "dummy = DummyRegressor(strategy=\"mean\")\n",
    "dummy.fit(X_train, y2_train)\n",
    "dummy_pred = dummy.predict(X_test)\n",
    "baseline_mse = mean_squared_error(y2_test, dummy_pred)\n",
    "baseline_rmse = np.sqrt(baseline_mse)\n",
    "print(\"Baseline Mean Squared Error:\", baseline_mse)\n",
    "print(\"Baseline Root Mean Squared Error:\", baseline_rmse)"
   ]
  },
  {
   "cell_type": "code",
   "execution_count": 18,
   "id": "d95be427-d9e5-4d8d-b8da-d274486bb0f8",
   "metadata": {},
   "outputs": [],
   "source": [
    "models.append(best_model)"
   ]
  },
  {
   "cell_type": "markdown",
   "id": "9bae6744-de40-455d-8768-4e8174ad6cbc",
   "metadata": {},
   "source": [
    "### Predicting QBR"
   ]
  },
  {
   "cell_type": "code",
   "execution_count": 19,
   "id": "ff2e1dde-048e-43c8-a25d-6e609c1f4407",
   "metadata": {},
   "outputs": [],
   "source": [
    "y3 = df['QBR']\n",
    "X_train, X_test, y3_train, y3_test = train_test_split(X, y3, test_size=0.2, random_state=42)"
   ]
  },
  {
   "cell_type": "code",
   "execution_count": 20,
   "id": "7d7181eb-cfe6-49df-9880-963ac5658e15",
   "metadata": {},
   "outputs": [
    {
     "name": "stdout",
     "output_type": "stream",
     "text": [
      "Best Parameters: {'regressor__max_depth': None, 'regressor__n_estimators': 450}\n",
      "Mean Squared Error: 485.8867023645596\n"
     ]
    }
   ],
   "source": [
    "# Define hyperparameters for tuning\n",
    "param_grid = {\n",
    "    'regressor__n_estimators': [400, 450, 500, 550, 600],\n",
    "    'regressor__max_depth': [None, 10, 20, 30, 40, 50]\n",
    "}\n",
    "\n",
    "# Set up GridSearchCV\n",
    "grid_search = GridSearchCV(estimator=pipeline, param_grid=param_grid, cv=5, scoring='neg_mean_squared_error', n_jobs=-1)\n",
    "\n",
    "# Train the model\n",
    "grid_search.fit(X_train, y3_train)\n",
    "\n",
    "# Best parameters and estimator\n",
    "best_params = grid_search.best_params_\n",
    "best_model = grid_search.best_estimator_\n",
    "print(\"Best Parameters:\", best_params)\n",
    "\n",
    "# Make predictions\n",
    "y3_pred = best_model.predict(X_test)\n",
    "\n",
    "# Calculate evaluation metrics\n",
    "mse = mean_squared_error(y3_test, y3_pred)\n",
    "print(\"Mean Squared Error:\", mse)"
   ]
  },
  {
   "cell_type": "code",
   "execution_count": 21,
   "id": "3e75d285-1f78-470b-b10f-a7221537e107",
   "metadata": {},
   "outputs": [
    {
     "name": "stdout",
     "output_type": "stream",
     "text": [
      "Mean Squared Error: 485.8867023645596\n",
      "Root Mean Squared Error: 22.042837892716072\n",
      "Baseline Mean Squared Error: 466.92322985598776\n",
      "Baseline Root Mean Squared Error: 21.608406462670676\n"
     ]
    }
   ],
   "source": [
    "mse = mean_squared_error(y3_test, y3_pred)\n",
    "rmse = np.sqrt(mse)\n",
    "print(\"Mean Squared Error:\", mse)\n",
    "print(\"Root Mean Squared Error:\", rmse)\n",
    "\n",
    "# Baseline model\n",
    "dummy = DummyRegressor(strategy=\"mean\")\n",
    "dummy.fit(X_train, y3_train)\n",
    "dummy_pred = dummy.predict(X_test)\n",
    "baseline_mse = mean_squared_error(y3_test, dummy_pred)\n",
    "baseline_rmse = np.sqrt(baseline_mse)\n",
    "print(\"Baseline Mean Squared Error:\", baseline_mse)\n",
    "print(\"Baseline Root Mean Squared Error:\", baseline_rmse)"
   ]
  },
  {
   "cell_type": "code",
   "execution_count": 22,
   "id": "21e14327-5b96-4bfb-a7fb-ccc58634c1c3",
   "metadata": {},
   "outputs": [],
   "source": [
    "models.append(best_model)"
   ]
  },
  {
   "cell_type": "markdown",
   "id": "2fd33cec-2c69-4606-83d2-f118f51d723d",
   "metadata": {},
   "source": [
    "### Predicting Passer Rating"
   ]
  },
  {
   "cell_type": "code",
   "execution_count": 23,
   "id": "fa4957b7-5268-45bc-9016-085b526c23e7",
   "metadata": {},
   "outputs": [],
   "source": [
    "y4 = df['Rate_P']\n",
    "X_train, X_test, y4_train, y4_test = train_test_split(X, y4, test_size=0.2, random_state=42)"
   ]
  },
  {
   "cell_type": "code",
   "execution_count": 24,
   "id": "c9095012-fa7d-42c8-95d8-85c2fc437cd9",
   "metadata": {},
   "outputs": [
    {
     "name": "stdout",
     "output_type": "stream",
     "text": [
      "Best Parameters: {'regressor__max_depth': 2, 'regressor__n_estimators': 70}\n",
      "Mean Squared Error: 601.7693106656069\n"
     ]
    }
   ],
   "source": [
    "# Define hyperparameters for tuning\n",
    "param_grid = {\n",
    "    'regressor__n_estimators': [20, 30, 40, 50, 60, 70],\n",
    "    'regressor__max_depth': [None, 2, 4, 6, 8, 10]\n",
    "}\n",
    "\n",
    "# Set up GridSearchCV\n",
    "grid_search = GridSearchCV(estimator=pipeline, param_grid=param_grid, cv=5, scoring='neg_mean_squared_error', n_jobs=-1)\n",
    "\n",
    "# Train the model\n",
    "grid_search.fit(X_train, y4_train)\n",
    "\n",
    "# Best parameters and estimator\n",
    "best_params = grid_search.best_params_\n",
    "best_model = grid_search.best_estimator_\n",
    "print(\"Best Parameters:\", best_params)\n",
    "\n",
    "# Make predictions\n",
    "y4_pred = best_model.predict(X_test)\n",
    "\n",
    "# Calculate evaluation metrics\n",
    "mse = mean_squared_error(y4_test, y4_pred)\n",
    "print(\"Mean Squared Error:\", mse)"
   ]
  },
  {
   "cell_type": "code",
   "execution_count": 25,
   "id": "a89f357d-6fdb-4500-b1d1-41d7f0d3b9fa",
   "metadata": {},
   "outputs": [
    {
     "name": "stdout",
     "output_type": "stream",
     "text": [
      "Mean Squared Error: 601.7693106656069\n",
      "Root Mean Squared Error: 24.53098674463803\n",
      "Baseline Mean Squared Error: 499.7804340020705\n",
      "Baseline Root Mean Squared Error: 22.35576959091479\n"
     ]
    }
   ],
   "source": [
    "mse = mean_squared_error(y4_test, y4_pred)\n",
    "rmse = np.sqrt(mse)\n",
    "print(\"Mean Squared Error:\", mse)\n",
    "print(\"Root Mean Squared Error:\", rmse)\n",
    "\n",
    "# Baseline model\n",
    "dummy = DummyRegressor(strategy=\"mean\")\n",
    "dummy.fit(X_train, y4_train)\n",
    "dummy_pred = dummy.predict(X_test)\n",
    "baseline_mse = mean_squared_error(y4_test, dummy_pred)\n",
    "baseline_rmse = np.sqrt(baseline_mse)\n",
    "print(\"Baseline Mean Squared Error:\", baseline_mse)\n",
    "print(\"Baseline Root Mean Squared Error:\", baseline_rmse)"
   ]
  },
  {
   "cell_type": "code",
   "execution_count": 26,
   "id": "617d455f-0b36-4426-b230-b9743a00395f",
   "metadata": {},
   "outputs": [],
   "source": [
    "models.append(best_model)"
   ]
  },
  {
   "cell_type": "markdown",
   "id": "5a8122e0-85d8-407f-af3f-f4a9c4041274",
   "metadata": {},
   "source": [
    "### Predicting Completion Percentage"
   ]
  },
  {
   "cell_type": "code",
   "execution_count": 27,
   "id": "901eaae7-00bb-4ecd-b3cc-db32f261d6ad",
   "metadata": {},
   "outputs": [],
   "source": [
    "y5 = df['Pct_P']\n",
    "X_train, X_test, y5_train, y5_test = train_test_split(X, y5, test_size=0.2, random_state=42)"
   ]
  },
  {
   "cell_type": "code",
   "execution_count": 28,
   "id": "fa5f9790-23c3-4c4a-aca8-5ec46d272e90",
   "metadata": {},
   "outputs": [
    {
     "name": "stdout",
     "output_type": "stream",
     "text": [
      "Best Parameters: {'regressor__max_depth': 40, 'regressor__n_estimators': 100}\n",
      "Mean Squared Error: 163.71966311764703\n"
     ]
    }
   ],
   "source": [
    "# Define hyperparameters for tuning\n",
    "param_grid = {\n",
    "    'regressor__n_estimators': [50, 100, 200, 300, 400, 500],\n",
    "    'regressor__max_depth': [None, 10, 20, 30, 40, 50]\n",
    "}\n",
    "\n",
    "# Set up GridSearchCV\n",
    "grid_search = GridSearchCV(estimator=pipeline, param_grid=param_grid, cv=5, scoring='neg_mean_squared_error', n_jobs=-1)\n",
    "\n",
    "# Train the model\n",
    "grid_search.fit(X_train, y5_train)\n",
    "\n",
    "# Best parameters and estimator\n",
    "best_params = grid_search.best_params_\n",
    "best_model = grid_search.best_estimator_\n",
    "print(\"Best Parameters:\", best_params)\n",
    "\n",
    "# Make predictions\n",
    "y5_pred = best_model.predict(X_test)\n",
    "\n",
    "# Calculate evaluation metrics\n",
    "mse = mean_squared_error(y5_test, y5_pred)\n",
    "print(\"Mean Squared Error:\", mse)"
   ]
  },
  {
   "cell_type": "code",
   "execution_count": 29,
   "id": "3e6bca5a-29ab-4fb8-b596-ed0aff76266f",
   "metadata": {},
   "outputs": [
    {
     "name": "stdout",
     "output_type": "stream",
     "text": [
      "Mean Squared Error: 163.71966311764703\n",
      "Root Mean Squared Error: 12.795298477083175\n",
      "Baseline Mean Squared Error: 150.5508010430726\n",
      "Baseline Root Mean Squared Error: 12.269914467634752\n"
     ]
    }
   ],
   "source": [
    "mse = mean_squared_error(y5_test, y5_pred)\n",
    "rmse = np.sqrt(mse)\n",
    "print(\"Mean Squared Error:\", mse)\n",
    "print(\"Root Mean Squared Error:\", rmse)\n",
    "\n",
    "# Baseline model\n",
    "dummy = DummyRegressor(strategy=\"mean\")\n",
    "dummy.fit(X_train, y5_train)\n",
    "dummy_pred = dummy.predict(X_test)\n",
    "baseline_mse = mean_squared_error(y5_test, dummy_pred)\n",
    "baseline_rmse = np.sqrt(baseline_mse)\n",
    "print(\"Baseline Mean Squared Error:\", baseline_mse)\n",
    "print(\"Baseline Root Mean Squared Error:\", baseline_rmse)"
   ]
  },
  {
   "cell_type": "code",
   "execution_count": 30,
   "id": "3f1786d1-dec3-4636-bd09-c7f9ab2b126d",
   "metadata": {},
   "outputs": [],
   "source": [
    "models.append(best_model)"
   ]
  },
  {
   "cell_type": "markdown",
   "id": "0530828f-7182-47b7-ae8f-1a09d138f215",
   "metadata": {},
   "source": [
    "### Predicting Rushing Yards"
   ]
  },
  {
   "cell_type": "code",
   "execution_count": 31,
   "id": "24dcf201-d383-4777-bb09-87ea23fcdd8d",
   "metadata": {},
   "outputs": [],
   "source": [
    "y6 = df['Yds_R_P']\n",
    "X_train, X_test, y6_train, y6_test = train_test_split(X, y6, test_size=0.2, random_state=42)"
   ]
  },
  {
   "cell_type": "code",
   "execution_count": 32,
   "id": "8c308f28-3bc0-4b66-9121-d6a9199a80d7",
   "metadata": {},
   "outputs": [
    {
     "name": "stdout",
     "output_type": "stream",
     "text": [
      "Best Parameters: {'regressor__max_depth': 30, 'regressor__n_estimators': 100}\n",
      "Mean Squared Error: 25421.28033529412\n"
     ]
    }
   ],
   "source": [
    "# Define hyperparameters for tuning\n",
    "param_grid = {\n",
    "    'regressor__n_estimators': [50, 100, 200, 300, 400, 500],\n",
    "    'regressor__max_depth': [None, 10, 20, 30, 40, 50]\n",
    "}\n",
    "\n",
    "# Set up GridSearchCV\n",
    "grid_search = GridSearchCV(estimator=pipeline, param_grid=param_grid, cv=5, scoring='neg_mean_squared_error', n_jobs=-1)\n",
    "\n",
    "# Train the model\n",
    "grid_search.fit(X_train, y6_train)\n",
    "\n",
    "# Best parameters and estimator\n",
    "best_params = grid_search.best_params_\n",
    "best_model = grid_search.best_estimator_\n",
    "print(\"Best Parameters:\", best_params)\n",
    "\n",
    "# Make predictions\n",
    "y6_pred = best_model.predict(X_test)\n",
    "\n",
    "# Calculate evaluation metrics\n",
    "mse = mean_squared_error(y6_test, y6_pred)\n",
    "print(\"Mean Squared Error:\", mse)"
   ]
  },
  {
   "cell_type": "code",
   "execution_count": 33,
   "id": "fd5fbbe2-bad0-48d9-a1fd-230d63603340",
   "metadata": {},
   "outputs": [
    {
     "name": "stdout",
     "output_type": "stream",
     "text": [
      "Mean Squared Error: 25421.28033529412\n",
      "Root Mean Squared Error: 159.44052287700927\n",
      "Baseline Mean Squared Error: 30416.332079724296\n",
      "Baseline Root Mean Squared Error: 174.40278690354776\n"
     ]
    }
   ],
   "source": [
    "mse = mean_squared_error(y6_test, y6_pred)\n",
    "rmse = np.sqrt(mse)\n",
    "print(\"Mean Squared Error:\", mse)\n",
    "print(\"Root Mean Squared Error:\", rmse)\n",
    "\n",
    "# Baseline model\n",
    "dummy = DummyRegressor(strategy=\"mean\")\n",
    "dummy.fit(X_train, y6_train)\n",
    "dummy_pred = dummy.predict(X_test)\n",
    "baseline_mse = mean_squared_error(y6_test, dummy_pred)\n",
    "baseline_rmse = np.sqrt(baseline_mse)\n",
    "print(\"Baseline Mean Squared Error:\", baseline_mse)\n",
    "print(\"Baseline Root Mean Squared Error:\", baseline_rmse)"
   ]
  },
  {
   "cell_type": "code",
   "execution_count": 34,
   "id": "353c8615-5471-4d89-a879-ecc1d30ff5d5",
   "metadata": {},
   "outputs": [],
   "source": [
    "models.append(best_model)"
   ]
  },
  {
   "cell_type": "markdown",
   "id": "63379448-d303-4ad7-853e-8d331f378321",
   "metadata": {},
   "source": [
    "### Predicting Rushing Touchdowns"
   ]
  },
  {
   "cell_type": "code",
   "execution_count": 35,
   "id": "dff9da82-073d-4833-a936-83cc72913963",
   "metadata": {},
   "outputs": [],
   "source": [
    "y7 = df['TD_R_P']\n",
    "X_train, X_test, y7_train, y7_test = train_test_split(X, y7, test_size=0.2, random_state=42)"
   ]
  },
  {
   "cell_type": "code",
   "execution_count": 36,
   "id": "343a008c-3df9-4387-8349-7a121a9f2230",
   "metadata": {},
   "outputs": [
    {
     "name": "stdout",
     "output_type": "stream",
     "text": [
      "Best Parameters: {'regressor__max_depth': 15, 'regressor__n_estimators': 50}\n",
      "Mean Squared Error: 6.829223529411764\n"
     ]
    }
   ],
   "source": [
    "# Define hyperparameters for tuning\n",
    "param_grid = {\n",
    "    'regressor__n_estimators': [50, 75, 100, 125],\n",
    "    'regressor__max_depth': [None, 5, 10, 15, 20, 30, 40]\n",
    "}\n",
    "\n",
    "# Set up GridSearchCV\n",
    "grid_search = GridSearchCV(estimator=pipeline, param_grid=param_grid, cv=5, scoring='neg_mean_squared_error', n_jobs=-1)\n",
    "\n",
    "# Train the model\n",
    "grid_search.fit(X_train, y7_train)\n",
    "\n",
    "# Best parameters and estimator\n",
    "best_params = grid_search.best_params_\n",
    "best_model = grid_search.best_estimator_\n",
    "print(\"Best Parameters:\", best_params)\n",
    "\n",
    "# Make predictions\n",
    "y7_pred = best_model.predict(X_test)\n",
    "\n",
    "# Calculate evaluation metrics\n",
    "mse = mean_squared_error(y7_test, y7_pred)\n",
    "print(\"Mean Squared Error:\", mse)"
   ]
  },
  {
   "cell_type": "code",
   "execution_count": 37,
   "id": "e8286d42-60cc-4fbb-9efe-44e91a4282c7",
   "metadata": {},
   "outputs": [
    {
     "name": "stdout",
     "output_type": "stream",
     "text": [
      "Mean Squared Error: 6.829223529411764\n",
      "Root Mean Squared Error: 2.6132783107452915\n",
      "Baseline Mean Squared Error: 7.077535937520475\n",
      "Baseline Root Mean Squared Error: 2.660363873142258\n"
     ]
    }
   ],
   "source": [
    "mse = mean_squared_error(y7_test, y7_pred)\n",
    "rmse = np.sqrt(mse)\n",
    "print(\"Mean Squared Error:\", mse)\n",
    "print(\"Root Mean Squared Error:\", rmse)\n",
    "\n",
    "# Baseline model\n",
    "dummy = DummyRegressor(strategy=\"mean\")\n",
    "dummy.fit(X_train, y7_train)\n",
    "dummy_pred = dummy.predict(X_test)\n",
    "baseline_mse = mean_squared_error(y7_test, dummy_pred)\n",
    "baseline_rmse = np.sqrt(baseline_mse)\n",
    "print(\"Baseline Mean Squared Error:\", baseline_mse)\n",
    "print(\"Baseline Root Mean Squared Error:\", baseline_rmse)"
   ]
  },
  {
   "cell_type": "code",
   "execution_count": 38,
   "id": "403900ea-dcea-4448-aff4-36d279fec440",
   "metadata": {},
   "outputs": [],
   "source": [
    "models.append(best_model)"
   ]
  },
  {
   "cell_type": "code",
   "execution_count": 39,
   "id": "d03450e6-d148-467d-8527-7e4c81748c3e",
   "metadata": {},
   "outputs": [],
   "source": [
    "for i, model in enumerate(models):\n",
    "    joblib.dump(model, f'model_{i}.joblib')"
   ]
  }
 ],
 "metadata": {
  "kernelspec": {
   "display_name": "Python 3 (ipykernel)",
   "language": "python",
   "name": "python3"
  },
  "language_info": {
   "codemirror_mode": {
    "name": "ipython",
    "version": 3
   },
   "file_extension": ".py",
   "mimetype": "text/x-python",
   "name": "python",
   "nbconvert_exporter": "python",
   "pygments_lexer": "ipython3",
   "version": "3.11.1"
  }
 },
 "nbformat": 4,
 "nbformat_minor": 5
}
