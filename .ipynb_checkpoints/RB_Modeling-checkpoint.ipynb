{
 "cells": [
  {
   "cell_type": "markdown",
   "id": "9c3f0687-cd19-45a0-91bf-b60621df0f73",
   "metadata": {},
   "source": [
    "# Modeling"
   ]
  },
  {
   "cell_type": "code",
   "execution_count": 1,
   "id": "e9091c24-0653-469d-8ea8-fcc520214fd2",
   "metadata": {},
   "outputs": [],
   "source": [
    "import numpy as np\n",
    "import pandas as pd\n",
    "import matplotlib.pyplot as plt\n",
    "import seaborn as sns\n",
    "from sklearn.model_selection import train_test_split, GridSearchCV\n",
    "from sklearn.ensemble import RandomForestRegressor\n",
    "from sklearn.metrics import mean_squared_error\n",
    "from sklearn.preprocessing import OneHotEncoder\n",
    "from sklearn.compose import ColumnTransformer\n",
    "from sklearn.pipeline import Pipeline\n",
    "from sklearn.dummy import DummyRegressor\n",
    "import xgboost as xgb\n",
    "import joblib"
   ]
  },
  {
   "cell_type": "code",
   "execution_count": 2,
   "id": "f8a9d6fd-b336-4730-b114-731eff5597bd",
   "metadata": {},
   "outputs": [],
   "source": [
    "# Load the data frames\n",
    "df = pd.read_csv('rb.csv')"
   ]
  },
  {
   "cell_type": "code",
   "execution_count": 3,
   "id": "57da4b51-0d21-4987-8ec8-04896496d6b3",
   "metadata": {},
   "outputs": [
    {
     "data": {
      "text/plain": [
       "0    70\n",
       "1    71\n",
       "2    71\n",
       "3    72\n",
       "4    72\n",
       "Name: Height, dtype: int64"
      ]
     },
     "execution_count": 3,
     "metadata": {},
     "output_type": "execute_result"
    }
   ],
   "source": [
    "# Function to convert height from 'feet-inches' to inches\n",
    "def height_to_inches(height):\n",
    "    feet, inches = height.split('-')\n",
    "    return int(feet) * 12 + int(inches)\n",
    "\n",
    "# Apply the function to the Height column\n",
    "df['Height'] = df['Height'].apply(height_to_inches)\n",
    "df['Height'].head()"
   ]
  },
  {
   "cell_type": "code",
   "execution_count": 4,
   "id": "5fa7bd77-55c6-4b0c-9809-a191dfe8f4be",
   "metadata": {},
   "outputs": [
    {
     "data": {
      "text/plain": [
       "Index(['Player', 'Tm', 'Age', 'Tgt', 'Rec_P', 'Ctch%', 'Yds_p', 'TD_P', '1D',\n",
       "       'Succ%', 'Y/Tgt', 'R/G', 'Y/G', 'G_P', 'GS', 'Att', 'Yds_R_P', 'TD_R_P',\n",
       "       '1D_P', 'Succ%_R', 'Y/A', 'Y/G_R', 'Fmb', 'G', 'Att_R', 'Yds_R',\n",
       "       'Avg_R', 'TD_R', 'Rec', 'Yds', 'Avg', 'TD', 'Plays_S', 'Yds_S', 'Avg_S',\n",
       "       'TD_S', 'Conf', 'School', 'Height', 'Weight', '40yd', 'Vertical',\n",
       "       'Broad Jump', 'Drafted', 'OvrPick'],\n",
       "      dtype='object')"
      ]
     },
     "execution_count": 4,
     "metadata": {},
     "output_type": "execute_result"
    }
   ],
   "source": [
    "df.columns"
   ]
  },
  {
   "cell_type": "code",
   "execution_count": 5,
   "id": "e7f7e4f9-e246-4dba-b871-9c1d487b519d",
   "metadata": {},
   "outputs": [
    {
     "data": {
      "text/plain": [
       "Index(['Age', 'G', 'Att_R', 'Yds_R', 'TD_R', 'Rec', 'Yds', 'TD', 'Conf',\n",
       "       'Height', 'Weight', '40yd', 'Vertical', 'Broad Jump', 'Drafted',\n",
       "       'OvrPick'],\n",
       "      dtype='object')"
      ]
     },
     "execution_count": 5,
     "metadata": {},
     "output_type": "execute_result"
    }
   ],
   "source": [
    "X = df.drop(columns=['Player', 'Tm', 'Tgt', 'Rec_P', 'Ctch%', 'Yds_p', 'TD_P', '1D',\n",
    "       'Succ%', 'Y/Tgt', 'R/G', 'Y/G', 'G_P', 'GS', 'Att', 'Yds_R_P', 'TD_R_P',\n",
    "       '1D_P', 'Succ%_R', 'Y/A', 'Y/G_R', 'Fmb', 'Avg_R', 'Avg', 'Plays_S', 'Yds_S', 'Avg_S',\n",
    "       'TD_S', 'School'])\n",
    "X.columns"
   ]
  },
  {
   "cell_type": "code",
   "execution_count": 6,
   "id": "7ed4c088-7dab-4ac5-ae16-2c4731b85f1d",
   "metadata": {},
   "outputs": [],
   "source": [
    "models = []"
   ]
  },
  {
   "cell_type": "markdown",
   "id": "8a63e0d6-9cce-4b06-8edc-6c70f84d952d",
   "metadata": {},
   "source": [
    "### Predicting Rushing Yards"
   ]
  },
  {
   "cell_type": "code",
   "execution_count": 7,
   "id": "3db3f8ad-ad6a-4ff7-a011-f310e23da308",
   "metadata": {},
   "outputs": [],
   "source": [
    "y1 = df['Yds_R_P']"
   ]
  },
  {
   "cell_type": "code",
   "execution_count": 8,
   "id": "9c7314cf-1c5b-4c44-a086-d24380a78971",
   "metadata": {},
   "outputs": [],
   "source": [
    "X['Conf'] = X['Conf'].astype('category')"
   ]
  },
  {
   "cell_type": "code",
   "execution_count": 9,
   "id": "a2829593-1221-457f-b377-57e34a0e2182",
   "metadata": {},
   "outputs": [],
   "source": [
    "X_train, X_test, y1_train, y1_test = train_test_split(X, y1, test_size=0.2, random_state=42)"
   ]
  },
  {
   "cell_type": "code",
   "execution_count": 10,
   "id": "7134911c-e60b-4416-9878-d2a3964bc0bf",
   "metadata": {},
   "outputs": [],
   "source": [
    "# Define the column transformer with handle_unknown='ignore'\n",
    "preprocessor = ColumnTransformer(\n",
    "    transformers=[\n",
    "        ('cat', OneHotEncoder(handle_unknown='ignore'), ['Conf'])  # Apply one-hot encoding to the categorical feature\n",
    "    ],\n",
    "    remainder='passthrough'  # Leave other features untouched\n",
    ")\n",
    "\n",
    "# Define the pipeline\n",
    "pipeline = Pipeline(steps=[\n",
    "    ('preprocessor', preprocessor),\n",
    "    ('regressor', RandomForestRegressor())\n",
    "])"
   ]
  },
  {
   "cell_type": "code",
   "execution_count": 11,
   "id": "6ac66d3a-689f-4ed1-b7f5-3432c535b96d",
   "metadata": {},
   "outputs": [
    {
     "name": "stdout",
     "output_type": "stream",
     "text": [
      "Best Parameters: {'regressor__max_depth': 40, 'regressor__n_estimators': 200}\n",
      "Mean Squared Error: 118354.14456524391\n"
     ]
    }
   ],
   "source": [
    "# Define hyperparameters for tuning\n",
    "param_grid = {\n",
    "    'regressor__n_estimators': [150, 200, 250, 300],\n",
    "    'regressor__max_depth': [25, 30, 35, 40]\n",
    "}\n",
    "\n",
    "# Set up GridSearchCV\n",
    "grid_search = GridSearchCV(estimator=pipeline, param_grid=param_grid, cv=5, scoring='neg_mean_squared_error', n_jobs=-1)\n",
    "\n",
    "# Train the model\n",
    "grid_search.fit(X_train, y1_train)\n",
    "\n",
    "# Best parameters and estimator\n",
    "best_params = grid_search.best_params_\n",
    "best_model = grid_search.best_estimator_\n",
    "print(\"Best Parameters:\", best_params)\n",
    "\n",
    "# Make predictions\n",
    "y1_pred = best_model.predict(X_test)\n",
    "\n",
    "# Calculate evaluation metrics\n",
    "mse = mean_squared_error(y1_test, y1_pred)\n",
    "print(\"Mean Squared Error:\", mse)"
   ]
  },
  {
   "cell_type": "code",
   "execution_count": 12,
   "id": "6dfce618-d991-48d9-af21-f3e103955656",
   "metadata": {},
   "outputs": [
    {
     "name": "stdout",
     "output_type": "stream",
     "text": [
      "Mean Squared Error: 118354.14456524391\n",
      "Root Mean Squared Error: 344.02637190373053\n",
      "Baseline Mean Squared Error: 126353.76780856657\n",
      "Baseline Root Mean Squared Error: 355.4627516471544\n"
     ]
    }
   ],
   "source": [
    "mse = mean_squared_error(y1_test, y1_pred)\n",
    "rmse = np.sqrt(mse)\n",
    "print(\"Mean Squared Error:\", mse)\n",
    "print(\"Root Mean Squared Error:\", rmse)\n",
    "\n",
    "# Baseline model\n",
    "dummy = DummyRegressor(strategy=\"mean\")\n",
    "dummy.fit(X_train, y1_train)\n",
    "dummy_pred = dummy.predict(X_test)\n",
    "baseline_mse = mean_squared_error(y1_test, dummy_pred)\n",
    "baseline_rmse = np.sqrt(baseline_mse)\n",
    "print(\"Baseline Mean Squared Error:\", baseline_mse)\n",
    "print(\"Baseline Root Mean Squared Error:\", baseline_rmse)"
   ]
  },
  {
   "cell_type": "code",
   "execution_count": 13,
   "id": "f4156cd2-a3d1-4c18-b8bf-e003c88abaec",
   "metadata": {},
   "outputs": [],
   "source": [
    "models.append(best_model)"
   ]
  },
  {
   "cell_type": "markdown",
   "id": "af2c279a-9d4b-48dc-857b-47afa3e1bb99",
   "metadata": {},
   "source": [
    "### Predicting Rushing Touchdowns"
   ]
  },
  {
   "cell_type": "code",
   "execution_count": 14,
   "id": "32e811ed-17f8-49b2-b4e5-271730f0ab90",
   "metadata": {},
   "outputs": [],
   "source": [
    "y2 = df['TD_R_P']\n",
    "X_train, X_test, y2_train, y2_test = train_test_split(X, y2, test_size=0.2, random_state=42)"
   ]
  },
  {
   "cell_type": "code",
   "execution_count": 15,
   "id": "4241b6f1-1257-4156-856f-89c8ca45a7ef",
   "metadata": {},
   "outputs": [
    {
     "name": "stdout",
     "output_type": "stream",
     "text": [
      "Best Parameters: {'regressor__max_depth': 10, 'regressor__n_estimators': 250}\n",
      "Mean Squared Error: 8.745196117179631\n"
     ]
    }
   ],
   "source": [
    "# Define hyperparameters for tuning\n",
    "param_grid = {\n",
    "    'regressor__n_estimators': [50, 100, 150, 175, 200, 225, 250],\n",
    "    'regressor__max_depth': [10, 20, 30, None]\n",
    "}\n",
    "\n",
    "# Set up GridSearchCV\n",
    "grid_search = GridSearchCV(estimator=pipeline, param_grid=param_grid, cv=5, scoring='neg_mean_squared_error', n_jobs=-1)\n",
    "\n",
    "# Train the model\n",
    "grid_search.fit(X_train, y2_train)\n",
    "\n",
    "# Best parameters and estimator\n",
    "best_params = grid_search.best_params_\n",
    "best_model = grid_search.best_estimator_\n",
    "print(\"Best Parameters:\", best_params)\n",
    "\n",
    "# Make predictions\n",
    "y2_pred = best_model.predict(X_test)\n",
    "\n",
    "# Calculate evaluation metrics\n",
    "mse = mean_squared_error(y2_test, y2_pred)\n",
    "print(\"Mean Squared Error:\", mse)"
   ]
  },
  {
   "cell_type": "code",
   "execution_count": 16,
   "id": "39fae1de-0308-4bdb-bf63-55afb32818d5",
   "metadata": {},
   "outputs": [
    {
     "name": "stdout",
     "output_type": "stream",
     "text": [
      "Mean Squared Error: 8.745196117179631\n",
      "Root Mean Squared Error: 2.9572277756675476\n",
      "Baseline Mean Squared Error: 9.821146052593196\n",
      "Baseline Root Mean Squared Error: 3.1338707779028154\n"
     ]
    }
   ],
   "source": [
    "mse = mean_squared_error(y2_test, y2_pred)\n",
    "rmse = np.sqrt(mse)\n",
    "print(\"Mean Squared Error:\", mse)\n",
    "print(\"Root Mean Squared Error:\", rmse)\n",
    "\n",
    "# Baseline model\n",
    "dummy = DummyRegressor(strategy=\"mean\")\n",
    "dummy.fit(X_train, y2_train)\n",
    "dummy_pred = dummy.predict(X_test)\n",
    "baseline_mse = mean_squared_error(y2_test, dummy_pred)\n",
    "baseline_rmse = np.sqrt(baseline_mse)\n",
    "print(\"Baseline Mean Squared Error:\", baseline_mse)\n",
    "print(\"Baseline Root Mean Squared Error:\", baseline_rmse)"
   ]
  },
  {
   "cell_type": "code",
   "execution_count": 17,
   "id": "819b43fb-8d6e-4d1b-9901-00d4aac3ea8f",
   "metadata": {},
   "outputs": [],
   "source": [
    "models.append(best_model)"
   ]
  },
  {
   "cell_type": "markdown",
   "id": "1b79acbe-6f91-457a-9ea1-56c4d4aca38d",
   "metadata": {},
   "source": [
    "### Predicting Receptions"
   ]
  },
  {
   "cell_type": "code",
   "execution_count": 18,
   "id": "7d31a35a-ec81-4c08-b313-6a554d49fa9e",
   "metadata": {},
   "outputs": [],
   "source": [
    "y3 = df['Rec_P']\n",
    "X_train, X_test, y3_train, y3_test = train_test_split(X, y3, test_size=0.2, random_state=42)"
   ]
  },
  {
   "cell_type": "code",
   "execution_count": 19,
   "id": "3718e62e-33d7-42d3-83af-c700b1f67e40",
   "metadata": {},
   "outputs": [
    {
     "name": "stdout",
     "output_type": "stream",
     "text": [
      "Best Parameters: {'regressor__max_depth': 20, 'regressor__n_estimators': 150}\n",
      "Mean Squared Error: 202.02671653116528\n"
     ]
    }
   ],
   "source": [
    "# Define hyperparameters for tuning\n",
    "param_grid = {\n",
    "    'regressor__n_estimators': [50, 100, 150, 175, 200, 225, 250],\n",
    "    'regressor__max_depth': [10, 20, 30, 40, None]\n",
    "}\n",
    "\n",
    "# Set up GridSearchCV\n",
    "grid_search = GridSearchCV(estimator=pipeline, param_grid=param_grid, cv=5, scoring='neg_mean_squared_error', n_jobs=-1)\n",
    "\n",
    "# Train the model\n",
    "grid_search.fit(X_train, y3_train)\n",
    "\n",
    "# Best parameters and estimator\n",
    "best_params = grid_search.best_params_\n",
    "best_model = grid_search.best_estimator_\n",
    "print(\"Best Parameters:\", best_params)\n",
    "\n",
    "# Make predictions\n",
    "y3_pred = best_model.predict(X_test)\n",
    "\n",
    "# Calculate evaluation metrics\n",
    "mse = mean_squared_error(y3_test, y3_pred)\n",
    "print(\"Mean Squared Error:\", mse)"
   ]
  },
  {
   "cell_type": "code",
   "execution_count": 20,
   "id": "0ff027c6-04cb-4b95-b0d3-171725a687f1",
   "metadata": {},
   "outputs": [
    {
     "name": "stdout",
     "output_type": "stream",
     "text": [
      "Mean Squared Error: 202.02671653116528\n",
      "Root Mean Squared Error: 14.213610256763243\n",
      "Baseline Mean Squared Error: 224.11936926552633\n",
      "Baseline Root Mean Squared Error: 14.970616863226656\n"
     ]
    }
   ],
   "source": [
    "mse = mean_squared_error(y3_test, y3_pred)\n",
    "rmse = np.sqrt(mse)\n",
    "print(\"Mean Squared Error:\", mse)\n",
    "print(\"Root Mean Squared Error:\", rmse)\n",
    "\n",
    "# Baseline model\n",
    "dummy = DummyRegressor(strategy=\"mean\")\n",
    "dummy.fit(X_train, y3_train)\n",
    "dummy_pred = dummy.predict(X_test)\n",
    "baseline_mse = mean_squared_error(y3_test, dummy_pred)\n",
    "baseline_rmse = np.sqrt(baseline_mse)\n",
    "print(\"Baseline Mean Squared Error:\", baseline_mse)\n",
    "print(\"Baseline Root Mean Squared Error:\", baseline_rmse)"
   ]
  },
  {
   "cell_type": "code",
   "execution_count": 21,
   "id": "476f3685-609f-454c-8f5d-15ec3f926418",
   "metadata": {},
   "outputs": [],
   "source": [
    "models.append(best_model)"
   ]
  },
  {
   "cell_type": "markdown",
   "id": "5486fa3f-d7f2-4dd5-aa20-65b190ae192a",
   "metadata": {},
   "source": [
    "### Predicting Receiving Yards"
   ]
  },
  {
   "cell_type": "code",
   "execution_count": 22,
   "id": "2476e991-7190-486e-94b8-4f33b46618a3",
   "metadata": {},
   "outputs": [],
   "source": [
    "y4 = df['Yds_p']\n",
    "X_train, X_test, y4_train, y4_test = train_test_split(X, y4, test_size=0.2, random_state=42)"
   ]
  },
  {
   "cell_type": "code",
   "execution_count": 23,
   "id": "e5f534be-b025-4940-97d2-a250662935e2",
   "metadata": {},
   "outputs": [
    {
     "name": "stdout",
     "output_type": "stream",
     "text": [
      "Best Parameters: {'regressor__max_depth': 10, 'regressor__n_estimators': 200}\n",
      "Mean Squared Error: 17736.327937047456\n"
     ]
    }
   ],
   "source": [
    "# Define hyperparameters for tuning\n",
    "param_grid = {\n",
    "    'regressor__n_estimators': [50, 100, 150, 175, 200, 225, 250],\n",
    "    'regressor__max_depth': [10, 20, 30, 40, None]\n",
    "}\n",
    "\n",
    "# Set up GridSearchCV\n",
    "grid_search = GridSearchCV(estimator=pipeline, param_grid=param_grid, cv=5, scoring='neg_mean_squared_error', n_jobs=-1)\n",
    "\n",
    "# Train the model\n",
    "grid_search.fit(X_train, y4_train)\n",
    "\n",
    "# Best parameters and estimator\n",
    "best_params = grid_search.best_params_\n",
    "best_model = grid_search.best_estimator_\n",
    "print(\"Best Parameters:\", best_params)\n",
    "\n",
    "# Make predictions\n",
    "y4_pred = best_model.predict(X_test)\n",
    "\n",
    "# Calculate evaluation metrics\n",
    "mse = mean_squared_error(y4_test, y4_pred)\n",
    "print(\"Mean Squared Error:\", mse)"
   ]
  },
  {
   "cell_type": "code",
   "execution_count": 24,
   "id": "076b6709-c129-48d0-a8f3-db5e7fe3a801",
   "metadata": {},
   "outputs": [
    {
     "name": "stdout",
     "output_type": "stream",
     "text": [
      "Mean Squared Error: 17736.327937047456\n",
      "Root Mean Squared Error: 133.1778057224531\n",
      "Baseline Mean Squared Error: 19936.010610099547\n",
      "Baseline Root Mean Squared Error: 141.19493833030825\n"
     ]
    }
   ],
   "source": [
    "mse = mean_squared_error(y4_test, y4_pred)\n",
    "rmse = np.sqrt(mse)\n",
    "print(\"Mean Squared Error:\", mse)\n",
    "print(\"Root Mean Squared Error:\", rmse)\n",
    "\n",
    "# Baseline model\n",
    "dummy = DummyRegressor(strategy=\"mean\")\n",
    "dummy.fit(X_train, y4_train)\n",
    "dummy_pred = dummy.predict(X_test)\n",
    "baseline_mse = mean_squared_error(y4_test, dummy_pred)\n",
    "baseline_rmse = np.sqrt(baseline_mse)\n",
    "print(\"Baseline Mean Squared Error:\", baseline_mse)\n",
    "print(\"Baseline Root Mean Squared Error:\", baseline_rmse)"
   ]
  },
  {
   "cell_type": "code",
   "execution_count": 25,
   "id": "acf7b9c4-11bc-450a-b7ed-9f6d894e77c1",
   "metadata": {},
   "outputs": [],
   "source": [
    "models.append(best_model)"
   ]
  },
  {
   "cell_type": "markdown",
   "id": "5fa0a997-0e16-4c20-82cf-0aa968dce44c",
   "metadata": {},
   "source": [
    "### Predicting Receiving Touchdowns"
   ]
  },
  {
   "cell_type": "code",
   "execution_count": 26,
   "id": "335616db-e190-46e0-b585-b3d13970b5df",
   "metadata": {},
   "outputs": [],
   "source": [
    "y5 = df['TD_P']\n",
    "X_train, X_test, y5_train, y5_test = train_test_split(X, y5, test_size=0.2, random_state=42)"
   ]
  },
  {
   "cell_type": "code",
   "execution_count": 27,
   "id": "07eb5381-7f40-4568-ab3e-d3db863fab63",
   "metadata": {},
   "outputs": [
    {
     "name": "stdout",
     "output_type": "stream",
     "text": [
      "Best Parameters: {'regressor__max_depth': 10, 'regressor__n_estimators': 225}\n",
      "Mean Squared Error: 0.8742414377311925\n"
     ]
    }
   ],
   "source": [
    "# Define hyperparameters for tuning\n",
    "param_grid = {\n",
    "    'regressor__n_estimators': [50, 100, 150, 175, 200, 225, 250],\n",
    "    'regressor__max_depth': [10, 20, 30, 40, None]\n",
    "}\n",
    "\n",
    "# Set up GridSearchCV\n",
    "grid_search = GridSearchCV(estimator=pipeline, param_grid=param_grid, cv=5, scoring='neg_mean_squared_error', n_jobs=-1)\n",
    "\n",
    "# Train the model\n",
    "grid_search.fit(X_train, y5_train)\n",
    "\n",
    "# Best parameters and estimator\n",
    "best_params = grid_search.best_params_\n",
    "best_model = grid_search.best_estimator_\n",
    "print(\"Best Parameters:\", best_params)\n",
    "\n",
    "# Make predictions\n",
    "y5_pred = best_model.predict(X_test)\n",
    "\n",
    "# Calculate evaluation metrics\n",
    "mse = mean_squared_error(y5_test, y5_pred)\n",
    "print(\"Mean Squared Error:\", mse)"
   ]
  },
  {
   "cell_type": "code",
   "execution_count": 28,
   "id": "79f373db-235e-4091-ab43-19ef9e355849",
   "metadata": {},
   "outputs": [
    {
     "name": "stdout",
     "output_type": "stream",
     "text": [
      "Mean Squared Error: 0.8742414377311925\n",
      "Root Mean Squared Error: 0.9350087901892647\n",
      "Baseline Mean Squared Error: 0.8523176894899231\n",
      "Baseline Root Mean Squared Error: 0.9232105336757825\n"
     ]
    }
   ],
   "source": [
    "mse = mean_squared_error(y5_test, y5_pred)\n",
    "rmse = np.sqrt(mse)\n",
    "print(\"Mean Squared Error:\", mse)\n",
    "print(\"Root Mean Squared Error:\", rmse)\n",
    "\n",
    "# Baseline model\n",
    "dummy = DummyRegressor(strategy=\"mean\")\n",
    "dummy.fit(X_train, y5_train)\n",
    "dummy_pred = dummy.predict(X_test)\n",
    "baseline_mse = mean_squared_error(y5_test, dummy_pred)\n",
    "baseline_rmse = np.sqrt(baseline_mse)\n",
    "print(\"Baseline Mean Squared Error:\", baseline_mse)\n",
    "print(\"Baseline Root Mean Squared Error:\", baseline_rmse)"
   ]
  },
  {
   "cell_type": "code",
   "execution_count": 29,
   "id": "27ef8344-21e5-4d15-8c2a-e71a8086a605",
   "metadata": {},
   "outputs": [],
   "source": [
    "models.append(best_model)"
   ]
  },
  {
   "cell_type": "code",
   "execution_count": 30,
   "id": "ecbeeca3-761a-4437-8201-4419748e9a0b",
   "metadata": {},
   "outputs": [],
   "source": [
    "for i, model in enumerate(models):\n",
    "    joblib.dump(model, f'rb_model_{i}.joblib')"
   ]
  }
 ],
 "metadata": {
  "kernelspec": {
   "display_name": "Python 3 (ipykernel)",
   "language": "python",
   "name": "python3"
  },
  "language_info": {
   "codemirror_mode": {
    "name": "ipython",
    "version": 3
   },
   "file_extension": ".py",
   "mimetype": "text/x-python",
   "name": "python",
   "nbconvert_exporter": "python",
   "pygments_lexer": "ipython3",
   "version": "3.11.1"
  }
 },
 "nbformat": 4,
 "nbformat_minor": 5
}
