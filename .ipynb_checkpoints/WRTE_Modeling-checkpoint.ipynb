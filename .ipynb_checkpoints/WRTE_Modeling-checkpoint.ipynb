{
 "cells": [
  {
   "cell_type": "markdown",
   "id": "56ca3eda-e876-4a0f-8ac5-02ffd67003e3",
   "metadata": {},
   "source": [
    "# Modeling"
   ]
  },
  {
   "cell_type": "code",
   "execution_count": 1,
   "id": "d1a46890-cd6b-4fbc-bd76-7ef5e5c24fe9",
   "metadata": {},
   "outputs": [],
   "source": [
    "import numpy as np\n",
    "import pandas as pd\n",
    "import matplotlib.pyplot as plt\n",
    "import seaborn as sns\n",
    "from sklearn.model_selection import train_test_split, GridSearchCV\n",
    "from sklearn.ensemble import RandomForestRegressor\n",
    "from sklearn.metrics import mean_squared_error\n",
    "from sklearn.preprocessing import OneHotEncoder\n",
    "from sklearn.compose import ColumnTransformer\n",
    "from sklearn.pipeline import Pipeline\n",
    "from sklearn.dummy import DummyRegressor\n",
    "import xgboost as xgb\n",
    "import joblib"
   ]
  },
  {
   "cell_type": "code",
   "execution_count": 2,
   "id": "f49810c8-97b8-4f4b-881b-53ea28a6774c",
   "metadata": {},
   "outputs": [],
   "source": [
    "# Load the data frames\n",
    "df = pd.read_csv('wrte.csv')"
   ]
  },
  {
   "cell_type": "code",
   "execution_count": 3,
   "id": "83712eae-17ca-452c-ba81-a5f57b25918f",
   "metadata": {},
   "outputs": [
    {
     "data": {
      "text/plain": [
       "0    77\n",
       "1    71\n",
       "2    75\n",
       "3    74\n",
       "4    74\n",
       "Name: Height, dtype: int64"
      ]
     },
     "execution_count": 3,
     "metadata": {},
     "output_type": "execute_result"
    }
   ],
   "source": [
    "# Function to convert height from 'feet-inches' to inches\n",
    "def height_to_inches(height):\n",
    "    feet, inches = height.split('-')\n",
    "    return int(feet) * 12 + int(inches)\n",
    "\n",
    "# Apply the function to the Height column\n",
    "df['Height'] = df['Height'].apply(height_to_inches)\n",
    "df['Height'].head()"
   ]
  },
  {
   "cell_type": "code",
   "execution_count": 4,
   "id": "9755809c-a0b0-4be8-a46f-4db06f9d0ace",
   "metadata": {},
   "outputs": [
    {
     "data": {
      "text/plain": [
       "Index(['Player', 'Tm', 'Age', 'Pos', 'G_P', 'GS', 'Tgt', 'Rec_P', 'Ctch%',\n",
       "       'Yds_P', 'TD_P', '1D', 'Succ%', 'Y/Tgt', 'R/G', 'Y/G', 'Fmb', 'G',\n",
       "       'Rec', 'Yds', 'Avg', 'TD', 'Plays_S', 'Yds_S', 'Avg_S', 'TD_S', 'Conf',\n",
       "       'School', 'Height', 'Weight', '40yd', 'Vertical', 'Broad Jump',\n",
       "       'Drafted', 'OvrPick'],\n",
       "      dtype='object')"
      ]
     },
     "execution_count": 4,
     "metadata": {},
     "output_type": "execute_result"
    }
   ],
   "source": [
    "df.columns"
   ]
  },
  {
   "cell_type": "code",
   "execution_count": 5,
   "id": "811c33c1-57be-4035-87e5-f28f76d72bc8",
   "metadata": {},
   "outputs": [
    {
     "data": {
      "text/plain": [
       "Index(['Age', 'G', 'Rec', 'Yds', 'TD', 'Conf', 'Height', 'Weight', '40yd',\n",
       "       'Vertical', 'Broad Jump', 'Drafted', 'OvrPick'],\n",
       "      dtype='object')"
      ]
     },
     "execution_count": 5,
     "metadata": {},
     "output_type": "execute_result"
    }
   ],
   "source": [
    "X = df.drop(columns=['Player', 'Tm', 'Pos', 'G_P', 'GS', 'Tgt', 'Rec_P', 'Ctch%',\n",
    "       'Yds_P', 'TD_P', '1D', 'Succ%', 'Y/Tgt', 'R/G', 'Y/G', 'Fmb', 'Avg', 'Plays_S', 'Yds_S', 'Avg_S',\n",
    "       'TD_S', 'School'])\n",
    "X.columns"
   ]
  },
  {
   "cell_type": "code",
   "execution_count": 6,
   "id": "0a72d32b-506e-4b5c-a8fb-fd6853c3e76c",
   "metadata": {},
   "outputs": [],
   "source": [
    "models = []"
   ]
  },
  {
   "cell_type": "markdown",
   "id": "aeb65d5b-e819-4c4b-9a84-e2de277dbd8a",
   "metadata": {},
   "source": [
    "### Predicting Receptions"
   ]
  },
  {
   "cell_type": "code",
   "execution_count": 7,
   "id": "760e90c8-a9b5-4293-a716-fb5c64c767b0",
   "metadata": {},
   "outputs": [],
   "source": [
    "y1 = df['Rec_P']"
   ]
  },
  {
   "cell_type": "code",
   "execution_count": 8,
   "id": "92853409-c785-49b1-a71a-68b399110acf",
   "metadata": {},
   "outputs": [],
   "source": [
    "X['Conf'] = X['Conf'].astype('category')"
   ]
  },
  {
   "cell_type": "code",
   "execution_count": 9,
   "id": "adcff586-ecab-48e6-aab0-cd4ea3d8a7c6",
   "metadata": {},
   "outputs": [],
   "source": [
    "X_train, X_test, y1_train, y1_test = train_test_split(X, y1, test_size=0.2, random_state=42)"
   ]
  },
  {
   "cell_type": "code",
   "execution_count": 10,
   "id": "f171df52-241a-4896-bd98-db3fc3ce4932",
   "metadata": {},
   "outputs": [],
   "source": [
    "# Define the column transformer with handle_unknown='ignore'\n",
    "preprocessor = ColumnTransformer(\n",
    "    transformers=[\n",
    "        ('cat', OneHotEncoder(handle_unknown='ignore'), ['Conf'])  # Apply one-hot encoding to the categorical feature\n",
    "    ],\n",
    "    remainder='passthrough'  # Leave other features untouched\n",
    ")\n",
    "\n",
    "# Define the pipeline\n",
    "pipeline = Pipeline(steps=[\n",
    "    ('preprocessor', preprocessor),\n",
    "    ('regressor', RandomForestRegressor())\n",
    "])"
   ]
  },
  {
   "cell_type": "code",
   "execution_count": 11,
   "id": "0d477d1f-7eb8-47f8-8707-a66d8035281d",
   "metadata": {},
   "outputs": [
    {
     "name": "stdout",
     "output_type": "stream",
     "text": [
      "Best Parameters: {'regressor__max_depth': None, 'regressor__n_estimators': 50}\n",
      "Mean Squared Error: 282.15217727272733\n"
     ]
    }
   ],
   "source": [
    "# Define hyperparameters for tuning\n",
    "param_grid = {\n",
    "    'regressor__n_estimators': [50, 100, 150, 175, 200, 225, 250],\n",
    "    'regressor__max_depth': [10, 20, 30, None]\n",
    "}\n",
    "\n",
    "# Set up GridSearchCV\n",
    "grid_search = GridSearchCV(estimator=pipeline, param_grid=param_grid, cv=5, scoring='neg_mean_squared_error', n_jobs=-1)\n",
    "\n",
    "# Train the model\n",
    "grid_search.fit(X_train, y1_train)\n",
    "\n",
    "# Best parameters and estimator\n",
    "best_params = grid_search.best_params_\n",
    "best_model = grid_search.best_estimator_\n",
    "print(\"Best Parameters:\", best_params)\n",
    "\n",
    "# Make predictions\n",
    "y1_pred = best_model.predict(X_test)\n",
    "\n",
    "# Calculate evaluation metrics\n",
    "mse = mean_squared_error(y1_test, y1_pred)\n",
    "print(\"Mean Squared Error:\", mse)"
   ]
  },
  {
   "cell_type": "code",
   "execution_count": 12,
   "id": "b8eb513c-046c-4661-99ff-7060baf5988f",
   "metadata": {},
   "outputs": [
    {
     "name": "stdout",
     "output_type": "stream",
     "text": [
      "Mean Squared Error: 282.15217727272733\n",
      "Root Mean Squared Error: 16.797386024995895\n",
      "Baseline Mean Squared Error: 422.10514591942143\n",
      "Baseline Root Mean Squared Error: 20.545197636416678\n"
     ]
    }
   ],
   "source": [
    "mse = mean_squared_error(y1_test, y1_pred)\n",
    "rmse = np.sqrt(mse)\n",
    "print(\"Mean Squared Error:\", mse)\n",
    "print(\"Root Mean Squared Error:\", rmse)\n",
    "\n",
    "# Baseline model\n",
    "dummy = DummyRegressor(strategy=\"mean\")\n",
    "dummy.fit(X_train, y1_train)\n",
    "dummy_pred = dummy.predict(X_test)\n",
    "baseline_mse = mean_squared_error(y1_test, dummy_pred)\n",
    "baseline_rmse = np.sqrt(baseline_mse)\n",
    "print(\"Baseline Mean Squared Error:\", baseline_mse)\n",
    "print(\"Baseline Root Mean Squared Error:\", baseline_rmse)"
   ]
  },
  {
   "cell_type": "code",
   "execution_count": 13,
   "id": "cbcba802-f379-4550-8270-61028e5648b3",
   "metadata": {},
   "outputs": [],
   "source": [
    "models.append(best_model)"
   ]
  },
  {
   "cell_type": "markdown",
   "id": "b7cf66d1-f31c-40da-81fe-093d800ac914",
   "metadata": {},
   "source": [
    "### Predicting Receiving Yards"
   ]
  },
  {
   "cell_type": "code",
   "execution_count": 14,
   "id": "f99ee0be-5c6a-45bd-80d7-6d00b99039fc",
   "metadata": {},
   "outputs": [],
   "source": [
    "y2 = df['Yds_P']\n",
    "X_train, X_test, y2_train, y2_test = train_test_split(X, y2, test_size=0.2, random_state=42)"
   ]
  },
  {
   "cell_type": "code",
   "execution_count": 15,
   "id": "0cf0fdaf-57dd-47d9-9a0d-52a49b2b2705",
   "metadata": {},
   "outputs": [
    {
     "name": "stdout",
     "output_type": "stream",
     "text": [
      "Best Parameters: {'regressor__max_depth': 20, 'regressor__n_estimators': 250}\n",
      "Mean Squared Error: 46368.166474742255\n"
     ]
    }
   ],
   "source": [
    "# Define hyperparameters for tuning\n",
    "param_grid = {\n",
    "    'regressor__n_estimators': [50, 100, 150, 175, 200, 225, 250],\n",
    "    'regressor__max_depth': [10, 20, 30, None]\n",
    "}\n",
    "\n",
    "# Set up GridSearchCV\n",
    "grid_search = GridSearchCV(estimator=pipeline, param_grid=param_grid, cv=5, scoring='neg_mean_squared_error', n_jobs=-1)\n",
    "\n",
    "# Train the model\n",
    "grid_search.fit(X_train, y2_train)\n",
    "\n",
    "# Best parameters and estimator\n",
    "best_params = grid_search.best_params_\n",
    "best_model = grid_search.best_estimator_\n",
    "print(\"Best Parameters:\", best_params)\n",
    "\n",
    "# Make predictions\n",
    "y2_pred = best_model.predict(X_test)\n",
    "\n",
    "# Calculate evaluation metrics\n",
    "mse = mean_squared_error(y2_test, y2_pred)\n",
    "print(\"Mean Squared Error:\", mse)"
   ]
  },
  {
   "cell_type": "code",
   "execution_count": 16,
   "id": "03ed2b49-865e-4263-a4bb-934f05e7d33c",
   "metadata": {},
   "outputs": [
    {
     "name": "stdout",
     "output_type": "stream",
     "text": [
      "Mean Squared Error: 46368.166474742255\n",
      "Root Mean Squared Error: 215.33268789188105\n",
      "Baseline Mean Squared Error: 68701.0799651343\n",
      "Baseline Root Mean Squared Error: 262.1089085955193\n"
     ]
    }
   ],
   "source": [
    "mse = mean_squared_error(y2_test, y2_pred)\n",
    "rmse = np.sqrt(mse)\n",
    "print(\"Mean Squared Error:\", mse)\n",
    "print(\"Root Mean Squared Error:\", rmse)\n",
    "\n",
    "# Baseline model\n",
    "dummy = DummyRegressor(strategy=\"mean\")\n",
    "dummy.fit(X_train, y2_train)\n",
    "dummy_pred = dummy.predict(X_test)\n",
    "baseline_mse = mean_squared_error(y2_test, dummy_pred)\n",
    "baseline_rmse = np.sqrt(baseline_mse)\n",
    "print(\"Baseline Mean Squared Error:\", baseline_mse)\n",
    "print(\"Baseline Root Mean Squared Error:\", baseline_rmse)"
   ]
  },
  {
   "cell_type": "code",
   "execution_count": 17,
   "id": "f67f58b5-61d8-4355-b57d-94effc744670",
   "metadata": {},
   "outputs": [],
   "source": [
    "models.append(best_model)"
   ]
  },
  {
   "cell_type": "markdown",
   "id": "85c60009-957e-420e-aaf2-7280a0dcddcd",
   "metadata": {},
   "source": [
    "### Predicting Receiving Touchdowns"
   ]
  },
  {
   "cell_type": "code",
   "execution_count": 18,
   "id": "8fd13335-0349-4ffb-bcae-68b480703bb1",
   "metadata": {},
   "outputs": [],
   "source": [
    "y3 = df['TD_P']\n",
    "X_train, X_test, y3_train, y3_test = train_test_split(X, y3, test_size=0.2, random_state=42)"
   ]
  },
  {
   "cell_type": "code",
   "execution_count": 19,
   "id": "7377d96a-1e74-4224-83d7-da56d768491b",
   "metadata": {},
   "outputs": [
    {
     "name": "stdout",
     "output_type": "stream",
     "text": [
      "Best Parameters: {'regressor__max_depth': None, 'regressor__n_estimators': 250}\n",
      "Mean Squared Error: 5.284459090909092\n"
     ]
    }
   ],
   "source": [
    "# Define hyperparameters for tuning\n",
    "param_grid = {\n",
    "    'regressor__n_estimators': [50, 100, 150, 175, 200, 225, 250],\n",
    "    'regressor__max_depth': [10, 20, 30, 40, None]\n",
    "}\n",
    "\n",
    "# Set up GridSearchCV\n",
    "grid_search = GridSearchCV(estimator=pipeline, param_grid=param_grid, cv=5, scoring='neg_mean_squared_error', n_jobs=-1)\n",
    "\n",
    "# Train the model\n",
    "grid_search.fit(X_train, y3_train)\n",
    "\n",
    "# Best parameters and estimator\n",
    "best_params = grid_search.best_params_\n",
    "best_model = grid_search.best_estimator_\n",
    "print(\"Best Parameters:\", best_params)\n",
    "\n",
    "# Make predictions\n",
    "y3_pred = best_model.predict(X_test)\n",
    "\n",
    "# Calculate evaluation metrics\n",
    "mse = mean_squared_error(y3_test, y3_pred)\n",
    "print(\"Mean Squared Error:\", mse)"
   ]
  },
  {
   "cell_type": "code",
   "execution_count": 20,
   "id": "4dfbceb5-68f3-4218-8ee0-7295c0a69ed8",
   "metadata": {},
   "outputs": [
    {
     "name": "stdout",
     "output_type": "stream",
     "text": [
      "Mean Squared Error: 5.284459090909092\n",
      "Root Mean Squared Error: 2.2987951389606454\n",
      "Baseline Mean Squared Error: 6.7041015625\n",
      "Baseline Root Mean Squared Error: 2.58922798580967\n"
     ]
    }
   ],
   "source": [
    "mse = mean_squared_error(y3_test, y3_pred)\n",
    "rmse = np.sqrt(mse)\n",
    "print(\"Mean Squared Error:\", mse)\n",
    "print(\"Root Mean Squared Error:\", rmse)\n",
    "\n",
    "# Baseline model\n",
    "dummy = DummyRegressor(strategy=\"mean\")\n",
    "dummy.fit(X_train, y3_train)\n",
    "dummy_pred = dummy.predict(X_test)\n",
    "baseline_mse = mean_squared_error(y3_test, dummy_pred)\n",
    "baseline_rmse = np.sqrt(baseline_mse)\n",
    "print(\"Baseline Mean Squared Error:\", baseline_mse)\n",
    "print(\"Baseline Root Mean Squared Error:\", baseline_rmse)"
   ]
  },
  {
   "cell_type": "code",
   "execution_count": 21,
   "id": "999246c3-0150-4957-88aa-1c8468feb97e",
   "metadata": {},
   "outputs": [],
   "source": [
    "models.append(best_model)"
   ]
  },
  {
   "cell_type": "code",
   "execution_count": 22,
   "id": "6678b561-d5b3-4fa5-ae0a-f7ea7e044c4b",
   "metadata": {},
   "outputs": [],
   "source": [
    "for i, model in enumerate(models):\n",
    "    joblib.dump(model, f'wrte_model_{i}.joblib')"
   ]
  }
 ],
 "metadata": {
  "kernelspec": {
   "display_name": "Python 3 (ipykernel)",
   "language": "python",
   "name": "python3"
  },
  "language_info": {
   "codemirror_mode": {
    "name": "ipython",
    "version": 3
   },
   "file_extension": ".py",
   "mimetype": "text/x-python",
   "name": "python",
   "nbconvert_exporter": "python",
   "pygments_lexer": "ipython3",
   "version": "3.11.1"
  }
 },
 "nbformat": 4,
 "nbformat_minor": 5
}
